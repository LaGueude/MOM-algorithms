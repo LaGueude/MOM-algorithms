{
 "cells": [
  {
   "cell_type": "markdown",
   "metadata": {},
   "source": [
    "# MOM adaptation of Dantzig Selector"
   ]
  },
  {
   "cell_type": "markdown",
   "metadata": {},
   "source": [
    "Source of the algorithm applied : https://apps.dtic.mil/dtic/tr/fulltext/u2/a619308.pdf"
   ]
  },
  {
   "cell_type": "markdown",
   "metadata": {},
   "source": [
    "Let X the matrix of our observation and Y the target. $X_j$ denotes the j-th column (variable) of X and $x_i$ the i-th row of X.\n",
    "$$\\forall j \\in (1,n) \\quad x_j \\sim P$$\n",
    "\n",
    "The Dantzig Selector is the solution to the following problem of optimisation : \n",
    "$$  \\widehat{\\beta} \\in arg \\min_{\\beta }{\\|\\beta\\|_1} \\quad  s.c : \\|D^{-1}X^T(X\\beta - Y) \\|_\\infty \\le \\delta  $$\n",
    "With $\\delta$ a fixed parameter of the model and D a diagonal matrix with $D_{i,i} = \\|X_i\\|_2$\n",
    "\n"
   ]
  },
  {
   "cell_type": "code",
   "execution_count": 43,
   "metadata": {},
   "outputs": [],
   "source": [
    "import numpy as np"
   ]
  },
  {
   "cell_type": "code",
   "execution_count": 44,
   "metadata": {},
   "outputs": [],
   "source": [
    "def norm_1(x):\n",
    "    \n",
    "    return np.sum(np.abs(x))\n",
    "\n",
    "def prox(u , lamb):\n",
    "    \n",
    "    n = len(u)\n",
    "    prox = np.zeros((n,1))\n",
    "    \n",
    "    for i in range(n) :\n",
    "        \n",
    "        prox[i,0] = np.sign(u[i,0]) * np.max(np.abs(u[i,0]) - lamb , 0)\n",
    "    \n",
    "    return prox"
   ]
  },
  {
   "cell_type": "code",
   "execution_count": 45,
   "metadata": {},
   "outputs": [],
   "source": [
    "def dantzig_selector(Y , X , delta , alpha , tol):\n",
    "    \n",
    "    n , p = np.shape(X)\n",
    "    D_inv = np.diag([1/np.linalg.norm(X[:,i]) for i in range(p)])\n",
    "    A = D_inv @ X.T @ X\n",
    "    b = D_inv @ X.T @ Y\n",
    "    \n",
    "    lamb = (0.999 * alpha) / np.linalg.norm(A)**2\n",
    "    \n",
    "    t , t_prev = np.zeros((p , 1)) , np.zeros((p , 1))\n",
    "    to = np.zeros((p , 1))\n",
    "    \n",
    "    #Stage 1 : \n",
    "    for i in range(iter_max):\n",
    "        \n",
    "        to = prox(A @ (2 * t - t_prev) + to - b , delta)\n",
    "        t_prev = t\n",
    "        t = prox( t - (lamb / alpha) * A.T @ to , 1 / alpha)\n",
    "        \n",
    "    #Stage 2 : \n",
    "    \n",
    "    val_sel = np.where(np.abs(t) < tol)[0]\n",
    "    v = np.linalg.solve(X[:,var_sel].T @ X[:,var_sel] , X[:,var_sel].T @ Y )\n",
    "    \n",
    "    sol = np.zeros((p,1))\n",
    "    sol[val_sel] = v\n",
    "    \n",
    "    return sol"
   ]
  }
 ],
 "metadata": {
  "kernelspec": {
   "display_name": "Python 3",
   "language": "python",
   "name": "python3"
  },
  "language_info": {
   "codemirror_mode": {
    "name": "ipython",
    "version": 3
   },
   "file_extension": ".py",
   "mimetype": "text/x-python",
   "name": "python",
   "nbconvert_exporter": "python",
   "pygments_lexer": "ipython3",
   "version": "3.6.4"
  }
 },
 "nbformat": 4,
 "nbformat_minor": 2
}
