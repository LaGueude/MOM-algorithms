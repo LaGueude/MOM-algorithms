{
 "cells": [
  {
   "cell_type": "code",
   "execution_count": 17,
   "metadata": {},
   "outputs": [],
   "source": [
    "import numpy as np\n",
    "import numpy.random as alea\n",
    "import random as rd\n",
    "from math import *"
   ]
  },
  {
   "cell_type": "code",
   "execution_count": 18,
   "metadata": {},
   "outputs": [],
   "source": [
    "def MOM(X , K) :\n",
    "    \n",
    "    #X: np.array\n",
    "    #K: int\n",
    "    #return: Median of means of the K blocks with the indexes of the values inside the median block ((float,int list))\n",
    "    n = len(X)\n",
    "    j = n // K\n",
    "    idx = alea.permutation(n)\n",
    "    means_blocks = np.zeros(K)\n",
    "    \n",
    "    if K == 1 : \n",
    "        \n",
    "        return idx\n",
    "    \n",
    "    for i in range(K) :\n",
    "        \n",
    "        means_blocks[i] = np.mean(X[idx[ j * i : j * (i + 1)]])\n",
    "        \n",
    "    indices = np.argsort(means_blocks)[int(np.ceil( len(means_blocks) / 2 ))]\n",
    "    \n",
    "    return (np.median(means_blocks[indices]) , idx[j * indices : j * (indices + 1)])\n",
    "\n",
    "def hinge(X , Y , w , b):\n",
    "    \n",
    "    res = np.zeros(len(X))\n",
    "    \n",
    "    for i,x in enumerate(X):\n",
    "        \n",
    "        res[i] = max(0, 1 - w.T @ x + b)\n",
    "        \n",
    "    return res"
   ]
  },
  {
   "cell_type": "code",
   "execution_count": 22,
   "metadata": {},
   "outputs": [],
   "source": [
    "def svm_sgd(K ,X, Y, epochs):\n",
    "\n",
    "    w = np.zeros(len(X[0]))\n",
    "    eta = 1\n",
    "\n",
    "    for epoch in range(1,epochs):\n",
    "        \n",
    "        MOM_block = MOM(hinge(X , Y , w , 0) , K)\n",
    "        X_med , Y_med = X[MOM_block] , Y[MOM_block]\n",
    "        \n",
    "        for i, x in enumerate(X_med):\n",
    "            \n",
    "            if (Y_med[i]*np.dot(X_med[i], w)) < 1:\n",
    "                \n",
    "                w = w + eta * ( (X_med[i] * Y_med[i]) + (-2  *(1 / epoch )* w) )\n",
    "                \n",
    "            else:\n",
    "                \n",
    "                w = w + eta * (-2  *(1/epoch)* w)\n",
    "\n",
    "    return w"
   ]
  },
  {
   "cell_type": "code",
   "execution_count": 23,
   "metadata": {},
   "outputs": [],
   "source": [
    "X = np.array([[-2,4,-1],[4,1,-1],[1, 6, -1],[2, 4, -1],[6, 2, -1]])\n",
    "\n",
    "y = np.array([-1,-1,1,1,1])"
   ]
  },
  {
   "cell_type": "code",
   "execution_count": 28,
   "metadata": {},
   "outputs": [
    {
     "data": {
      "text/plain": [
       "array([ 2.26351367,  2.93884458, 14.73119231])"
      ]
     },
     "execution_count": 28,
     "metadata": {},
     "output_type": "execute_result"
    }
   ],
   "source": [
    "svm_sgd(1 , X, y, 100000)"
   ]
  },
  {
   "cell_type": "code",
   "execution_count": null,
   "metadata": {},
   "outputs": [],
   "source": []
  }
 ],
 "metadata": {
  "kernelspec": {
   "display_name": "Python 3",
   "language": "python",
   "name": "python3"
  },
  "language_info": {
   "codemirror_mode": {
    "name": "ipython",
    "version": 3
   },
   "file_extension": ".py",
   "mimetype": "text/x-python",
   "name": "python",
   "nbconvert_exporter": "python",
   "pygments_lexer": "ipython3",
   "version": "3.6.8"
  }
 },
 "nbformat": 4,
 "nbformat_minor": 2
}
