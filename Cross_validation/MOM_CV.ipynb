{
 "cells": [
  {
   "cell_type": "code",
   "execution_count": 1,
   "metadata": {},
   "outputs": [],
   "source": [
    "import numpy as np\n",
    "import numpy.random as alea"
   ]
  },
  {
   "cell_type": "code",
   "execution_count": 2,
   "metadata": {},
   "outputs": [],
   "source": [
    "random_seed = 56\n",
    "alea.seed(random_seed)"
   ]
  },
  {
   "cell_type": "code",
   "execution_count": 3,
   "metadata": {},
   "outputs": [],
   "source": [
    "def MOM_K(K , tab):\n",
    "    \n",
    "    n = len(tab)\n",
    "    idx = alea.permutation(len(tab))\n",
    "    means = []\n",
    "    \n",
    "    for i in range(K):\n",
    "        \n",
    "        means.append(np.mean(tab[idx[i * (n // K) : (i + 1) * (n // K)]]))\n",
    "    \n",
    "    return np.median(means)"
   ]
  },
  {
   "cell_type": "code",
   "execution_count": 4,
   "metadata": {},
   "outputs": [],
   "source": [
    "class MOM_CV:\n",
    "    \n",
    "    def __init__(self , model , K ,  V ):\n",
    "        \n",
    "        self.model = model\n",
    "        self.K = K\n",
    "        self.V = V\n",
    "        \n",
    "    def cross_validation_V_fold(model , data , V , random = False):\n",
    "        \n",
    "        n = len(data)\n",
    "        X = [data[i][0] for i in range(n)]\n",
    "        Y = [data[i][1] for i in range(n)]\n",
    "        \n",
    "        if random == True : \n",
    "            idx = alea.permutation(n)\n",
    "            \n",
    "        else : \n",
    "            idx = np.arange(n)\n",
    "        \n",
    "        score = []\n",
    "        \n",
    "        for i in range(V) : \n",
    "            \n",
    "            X_train = np.concatenate((X[idx[ : i * (n // V)]] , X[idx[(i + 1) * (n // V) :]]))  \n",
    "            Y_train = np.concatenate((Y[idx[ : i * (n // V)]] , Y[idx[(i + 1) * (n // V) :]]))  \n",
    "            X_test = X[i * (n // V) : (i + 1) * (n // V)]\n",
    "            Y_test = Y[i * (n // V) : (i + 1) * (n // V)]\n",
    "            \n",
    "            self.model.fit(X_train , Y_train)\n",
    "            \n",
    "            err = np.zeros(len(Y_test))\n",
    "            \n",
    "            for p in range(len(Y_test)):\n",
    "                \n",
    "                err[p] = self.model.score([X_test[p]],[Y_test[p]])\n",
    "                \n",
    "            score.append(MOM_K(self.K , err))\n",
    "            \n",
    "        return score"
   ]
  }
 ],
 "metadata": {
  "kernelspec": {
   "display_name": "Python 3",
   "language": "python",
   "name": "python3"
  },
  "language_info": {
   "codemirror_mode": {
    "name": "ipython",
    "version": 3
   },
   "file_extension": ".py",
   "mimetype": "text/x-python",
   "name": "python",
   "nbconvert_exporter": "python",
   "pygments_lexer": "ipython3",
   "version": "3.6.4"
  }
 },
 "nbformat": 4,
 "nbformat_minor": 2
}
