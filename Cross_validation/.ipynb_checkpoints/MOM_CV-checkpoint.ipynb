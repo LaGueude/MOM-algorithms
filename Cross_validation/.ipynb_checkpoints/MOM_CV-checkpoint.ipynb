{
 "cells": [
  {
   "cell_type": "code",
   "execution_count": 2,
   "metadata": {},
   "outputs": [],
   "source": [
    "import sys,os"
   ]
  },
  {
   "cell_type": "code",
   "execution_count": 3,
   "metadata": {},
   "outputs": [],
   "source": [
    "sys.path.append(os.path.abspath('/Users/charleslaroche/Documents/GitHub/MOM-algorithms/procedure'))"
   ]
  },
  {
   "cell_type": "code",
   "execution_count": 4,
   "metadata": {},
   "outputs": [],
   "source": [
    "import numpy as np\n",
    "import numpy.random as alea"
   ]
  },
  {
   "cell_type": "code",
   "execution_count": 5,
   "metadata": {},
   "outputs": [],
   "source": [
    "random_seed = 56\n",
    "alea.seed(random_seed)"
   ]
  },
  {
   "cell_type": "code",
   "execution_count": 6,
   "metadata": {},
   "outputs": [],
   "source": [
    "def cross_validation_V_fold(model , X , Y , V , K , random = False):\n",
    "    \n",
    "    n = len(Y)\n",
    "    \n",
    "    if random == True : \n",
    "        idx = alea.permutation(n)\n",
    "        \n",
    "    else : \n",
    "        idx = np.arange(n)\n",
    "    \n",
    "    score = []\n",
    "    \n",
    "    for i in range(V) : \n",
    "        \n",
    "        X_train = np.concatenate((X[idx[ : i * (n // V)]] , X[idx[(i + 1) * (n // V) :]]))  \n",
    "        Y_train = np.concatenate((Y[idx[ : i * (n // V)]] , Y[idx[(i + 1) * (n // V) :]]))  \n",
    "        X_test = X[i * (n // V) : (i + 1) * (n // V)]\n",
    "        Y_test = Y[i * (n // V) : (i + 1) * (n // V)]\n",
    "        \n",
    "        model.fit(X_train , Y_train)\n",
    "        \n",
    "        err = np.zeros(len(Y_test))\n",
    "        \n",
    "        for p in range(len(Y_test)):\n",
    "            \n",
    "            err[p] = model.score([X_test[p]],[Y_test[p]])\n",
    "        \n",
    "        score.append(MOM(err, K)[0])\n",
    "        \n",
    "    return score"
   ]
  }
 ],
 "metadata": {
  "kernelspec": {
   "display_name": "Python 3",
   "language": "python",
   "name": "python3"
  },
  "language_info": {
   "codemirror_mode": {
    "name": "ipython",
    "version": 3
   },
   "file_extension": ".py",
   "mimetype": "text/x-python",
   "name": "python",
   "nbconvert_exporter": "python",
   "pygments_lexer": "ipython3",
   "version": "3.6.8"
  }
 },
 "nbformat": 4,
 "nbformat_minor": 2
}
